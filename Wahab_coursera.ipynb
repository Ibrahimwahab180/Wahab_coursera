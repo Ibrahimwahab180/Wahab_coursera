{
 "cells": [
  {
   "cell_type": "markdown",
   "id": "9a1b267c-b90e-401f-9c3d-28d854add890",
   "metadata": {},
   "source": [
    "#### Exercise 2 - Title of the Notebook\n",
    "# Data Science Final Project\n"
   ]
  },
  {
   "cell_type": "markdown",
   "id": "0662b124-8c67-46fe-94e6-3f2d56bbef1a",
   "metadata": {},
   "source": [
    "#### Exercise 3 - Introduction\n",
    "\n",
    "This notebook is created as part of the final project for the Data Science course. \n",
    "It contains various exercises that demonstrate fundamental concepts, including programming languages, libraries, tools, and basic arithmetic operations.\n"
   ]
  },
  {
   "cell_type": "markdown",
   "id": "c00768e1-205d-4944-85c5-1b42bb62f431",
   "metadata": {},
   "source": [
    "#### Exercise 4 - List of Data Science Languages\n",
    "\n",
    "Some of the popular languages used in Data Science include:\n",
    "- Python\n",
    "- R\n",
    "- SQL\n",
    "- Java\n",
    "- Julia\n",
    "- Scala\n",
    "- MATLAB"
   ]
  },
  {
   "cell_type": "markdown",
   "id": "f00508fa-5e1b-435f-992b-63096c6d1203",
   "metadata": {},
   "source": [
    "#### Exercise 5 - List of Data Science Libraries\n",
    "\n",
    "Commonly used Data Science libraries include:\n",
    "- Pandas\n",
    "- NumPy\n",
    "- Matplotlib\n",
    "- Seaborn\n",
    "- Scikit-learn\n",
    "- TensorFlow\n",
    "- PyTorch\n",
    "- Keras\n",
    "\n"
   ]
  },
  {
   "cell_type": "markdown",
   "id": "cb42f667-8696-4f27-bdc8-cb5448dd83ef",
   "metadata": {},
   "source": [
    "#### Exercise 6 - Table of Data Science Tools\n",
    "\n",
    "| Tool Name         | Description                      |\n",
    "|------------------|--------------------------------|\n",
    "| Jupyter Notebook | Interactive computing environment |\n",
    "| RStudio          | IDE for R programming          |\n",
    "| Apache Spark     | Big data processing framework  |\n",
    "| Tableau         | Data visualization tool        |\n",
    "| TensorFlow      | Machine learning library       |\n"
   ]
  },
  {
   "cell_type": "markdown",
   "id": "f06f5f5a-6143-4aca-8a60-2d8cb8f1d950",
   "metadata": {},
   "source": [
    "#### Exercise 7 - Introduction to Arithmetic Expressions\n",
    "\n",
    "Arithmetic expressions in programming help in performing basic mathematical operations such as addition, subtraction, multiplication, and division.\n"
   ]
  },
  {
   "cell_type": "markdown",
   "id": "76145fd9-b8b0-4bb4-a31f-b62a0000ecea",
   "metadata": {},
   "source": [
    "#### Exercise 8 - Code cell to multiply and add numbers\n",
    "# Multiplication and addition example\n",
    "num1 = 5\n",
    "num2 = 3\n",
    "result = (num1 * num2) + (num1 + num2)\n",
    "result\n"
   ]
  },
  {
   "cell_type": "markdown",
   "id": "8fb9a835-d509-483a-923b-7bb01fa1bee7",
   "metadata": {},
   "source": [
    "#### Exercise 9 - Code cell to convert minutes to hours\n",
    "# Convert 120 minutes to hours\n",
    "minutes = 120\n",
    "hours = minutes / 60\n",
    "hours\n"
   ]
  },
  {
   "cell_type": "markdown",
   "id": "dd2c818f-4043-4415-963f-1fcda9f617a2",
   "metadata": {},
   "source": [
    "#### Exercise 10 - List Objectives\n",
    "\n",
    "The objectives of this notebook are:\n",
    "- Identify popular Data Science languages.\n",
    "- List commonly used libraries in Data Science.\n",
    "- Present a table of Data Science tools.\n",
    "- Perform basic arithmetic operations in Python.\n",
    "- Convert units (minutes to hours) using Python code.\n",
    "- Share the notebook via GitHub.\n"
   ]
  },
  {
   "cell_type": "markdown",
   "id": "018ed785-ce42-4f82-8357-39eb08070241",
   "metadata": {},
   "source": [
    "#### Exercise 11 - Author Name\n",
    "\n",
    "**Author**: Ibrahim Wahab Olagoke"
   ]
  },
  {
   "cell_type": "markdown",
   "id": "c9b6da14-446c-45ad-88cc-e0d0d9b5e877",
   "metadata": {},
   "source": [
    "#### Exercise 12 - GitHub Submission Instruction\n",
    "To share this notebook via GitHub:\n",
    "1. Open GitHub and create a new repository.\n",
    "2. Upload this Jupyter Notebook file (.ipynb) to the repository.\n",
    "3. Set the repository to public.\n",
    "4. Copy and share the GitHub link as required."
   ]
  },
  {
   "cell_type": "code",
   "execution_count": null,
   "id": "965d09e3-84df-41c8-8293-49b8a5e661bf",
   "metadata": {},
   "outputs": [],
   "source": []
  }
 ],
 "metadata": {
  "kernelspec": {
   "display_name": "Python [conda env:base] *",
   "language": "python",
   "name": "conda-base-py"
  },
  "language_info": {
   "codemirror_mode": {
    "name": "ipython",
    "version": 3
   },
   "file_extension": ".py",
   "mimetype": "text/x-python",
   "name": "python",
   "nbconvert_exporter": "python",
   "pygments_lexer": "ipython3",
   "version": "3.12.7"
  }
 },
 "nbformat": 4,
 "nbformat_minor": 5
}
